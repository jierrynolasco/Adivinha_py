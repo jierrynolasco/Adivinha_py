{
  "nbformat": 4,
  "nbformat_minor": 0,
  "metadata": {
    "colab": {
      "provenance": [],
      "toc_visible": true,
      "authorship_tag": "ABX9TyPCUZvO6FCs2tBZcJHP314G",
      "include_colab_link": true
    },
    "kernelspec": {
      "name": "python3",
      "display_name": "Python 3"
    },
    "language_info": {
      "name": "python"
    }
  },
  "cells": [
    {
      "cell_type": "markdown",
      "metadata": {
        "id": "view-in-github",
        "colab_type": "text"
      },
      "source": [
        "<a href=\"https://colab.research.google.com/github/jierrynolasco/Adivinha_py/blob/master/adivinha_py.ipynb\" target=\"_parent\"><img src=\"https://colab.research.google.com/assets/colab-badge.svg\" alt=\"Open In Colab\"/></a>"
      ]
    },
    {
      "cell_type": "markdown",
      "source": [],
      "metadata": {
        "id": "2hOvY_1SKegU"
      }
    },
    {
      "cell_type": "code",
      "source": [
        "def play_game():\n",
        "  number = 0\n",
        "  while number != 600:\n",
        "    number = int(input(\"Digite um número: \"))\n",
        "    if number < 600:\n",
        "      print(\"O número é menor que 600 tente novamente\")\n",
        "    elif number > 600:\n",
        "      print(\"O número é maior que 600 tente novamente\")\n",
        "\n",
        "    print(\"Parabens você acertou!\")\n",
        "\n",
        "play_game()\n",
        "\n"
      ],
      "metadata": {
        "colab": {
          "base_uri": "https://localhost:8080/"
        },
        "id": "pq0OBL2LMMDA",
        "outputId": "46e5cc4f-7ef9-41ee-c748-abf1d964bd07"
      },
      "execution_count": 6,
      "outputs": [
        {
          "output_type": "stream",
          "name": "stdout",
          "text": [
            "Digite um número45\n",
            "O número é menor que 600 tente novamente\n",
            "Parabens você acertou\n",
            "Digite um número600\n",
            "Parabens você acertou\n"
          ]
        }
      ]
    },
    {
      "cell_type": "code",
      "source": [],
      "metadata": {
        "id": "kUys-EoNMxLX"
      },
      "execution_count": null,
      "outputs": []
    }
  ]
}